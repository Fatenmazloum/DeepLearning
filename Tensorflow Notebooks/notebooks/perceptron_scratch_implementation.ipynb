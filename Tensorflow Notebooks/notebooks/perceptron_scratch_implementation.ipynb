{
 "cells": [
  {
   "cell_type": "code",
   "execution_count": 3,
   "metadata": {},
   "outputs": [],
   "source": [
    "import numpy as np\n",
    "\n",
    "class Perceptron:\n",
    "    def __init__(self, learning_rate=0.1, epochs=100):\n",
    "        self.learning_rate = learning_rate\n",
    "        self.epochs = epochs\n",
    "    \n",
    "    def fit(self, X, y):\n",
    "        self.weights = np.random.rand(X.shape[1])\n",
    "        self.bias = np.random.rand(1)\n",
    "\n",
    "        for _ in range(self.epochs):\n",
    "            for inputs, target in zip(X, y):\n",
    "                prediction = self.predict(inputs)\n",
    "                error = target - prediction\n",
    "                self.weights += self.learning_rate * error * inputs\n",
    "                self.bias += self.learning_rate * error\n",
    "    def predict(self, inputs):\n",
    "        weighted_sum = np.dot(inputs, self.weights) + self.bias\n",
    "        return self._activation(weighted_sum)\n",
    "    def _activation(self, z):\n",
    "        return 1 if z >= 0 else 0"
   ]
  },
  {
   "cell_type": "code",
   "execution_count": 44,
   "metadata": {},
   "outputs": [
    {
     "name": "stdout",
     "output_type": "stream",
     "text": [
      "(120, 2) (30, 2) (120,)\n"
     ]
    }
   ],
   "source": [
    "from sklearn.datasets import load_iris\n",
    "from sklearn.model_selection import train_test_split\n",
    "from sklearn.metrics import classification_report\n",
    "import pandas as pd\n",
    "\n",
    "# Load the Iris dataset\n",
    "iris = load_iris()\n",
    "\n",
    "# Access the features and target variables\n",
    "X = iris.data[:,:2]\n",
    "y = np.where(iris.target!=0, 0, 1)\n",
    "X_train, X_test, y_train, y_test = train_test_split(X, y, test_size=0.20, random_state=0)\n",
    "print(X_train.shape,X_test.shape,y_train.shape)\n"
   ]
  },
  {
   "cell_type": "code",
   "execution_count": 36,
   "metadata": {},
   "outputs": [
    {
     "name": "stdout",
     "output_type": "stream",
     "text": [
      "              precision    recall  f1-score   support\n",
      "\n",
      "           f       1.00      1.00      1.00        19\n",
      "           g       1.00      1.00      1.00        11\n",
      "\n",
      "    accuracy                           1.00        30\n",
      "   macro avg       1.00      1.00      1.00        30\n",
      "weighted avg       1.00      1.00      1.00        30\n",
      "\n"
     ]
    }
   ],
   "source": [
    "# Create a perceptron with two input features\n",
    "perceptron = Perceptron(learning_rate=0.1, epochs=10)\n",
    "\n",
    "# Train the perceptron on the training data\n",
    "perceptron.fit(X_train, y_train)\n",
    "\n",
    "# Get predictions from the test set\n",
    "y_pred = np.array([perceptron.predict(x) for x in X_test])\n",
    "\n",
    "# Generate the classification report\n",
    "report=classification_report(y_pred,y_test, target_names=['f','g'])\n",
    "\n",
    "print(report)"
   ]
  },
  {
   "cell_type": "markdown",
   "metadata": {},
   "source": [
    "## As we will see in the diagram below, Perceptron is only helpful for linearly classified classes"
   ]
  },
  {
   "cell_type": "code",
   "execution_count": 45,
   "metadata": {},
   "outputs": [
    {
     "name": "stdout",
     "output_type": "stream",
     "text": [
      "    sepal length (cm)  sepal width (cm)  Prdiction\n",
      "0                 5.8               2.8          0\n",
      "1                 6.0               2.2          0\n",
      "2                 5.5               4.2          1\n",
      "3                 7.3               2.9          0\n",
      "4                 5.0               3.4          1\n",
      "5                 6.3               3.3          0\n",
      "6                 5.0               3.5          1\n",
      "7                 6.7               3.1          0\n",
      "8                 6.8               2.8          0\n",
      "9                 6.1               2.8          0\n",
      "10                6.1               2.6          0\n",
      "11                6.4               3.2          0\n",
      "12                6.1               2.8          0\n",
      "13                6.5               2.8          0\n",
      "14                6.1               2.9          0\n",
      "15                4.9               3.6          1\n",
      "16                6.0               2.9          0\n",
      "17                5.5               2.6          0\n",
      "18                4.8               3.0          1\n",
      "19                5.4               3.9          1\n",
      "20                5.6               2.8          0\n",
      "21                5.6               3.0          0\n",
      "22                4.8               3.4          1\n",
      "23                4.4               2.9          1\n",
      "24                6.2               2.8          0\n",
      "25                4.6               3.6          1\n",
      "26                5.1               3.8          1\n",
      "27                6.2               2.9          0\n",
      "28                5.0               2.3          0\n",
      "29                5.0               3.4          1\n"
     ]
    },
    {
     "data": {
      "text/plain": [
       "<Axes: xlabel='sepal length (cm)', ylabel='sepal width (cm)'>"
      ]
     },
     "execution_count": 45,
     "metadata": {},
     "output_type": "execute_result"
    },
    {
     "data": {
      "image/png": "[encoded data removed]",
      "text/plain": [
       "<Figure size 640x480 with 2 Axes>"
      ]
     },
     "metadata": {},
     "output_type": "display_data"
    }
   ],
   "source": [
    "import matplotlib.pyplot as plt\n",
    "import pandas as pd\n",
    "\n",
    "\n",
    "df = pd.DataFrame(X_test, columns=iris.feature_names[:2])\n",
    "\n",
    "df['Prdiction'] = y_pred\n",
    "print(df)\n",
    "\n",
    "df.plot.scatter(\n",
    "    x='sepal length (cm)',\n",
    "    y='sepal width (cm)',\n",
    "    c='Prdiction',\n",
    "    colormap='viridis'\n",
    ")"
   ]
  },
  {
   "cell_type": "code",
   "execution_count": null,
   "metadata": {},
   "outputs": [],
   "source": []
  }
 ],
 "metadata": {
  "kernelspec": {
   "display_name": "deep",
   "language": "python",
   "name": "python3"
  },
  "language_info": {
   "codemirror_mode": {
    "name": "ipython",
    "version": 3
   },
   "file_extension": ".py",
   "mimetype": "text/x-python",
   "name": "python",
   "nbconvert_exporter": "python",
   "pygments_lexer": "ipython3",
   "version": "3.11.0"
  }
 },
 "nbformat": 4,
 "nbformat_minor": 2
}
